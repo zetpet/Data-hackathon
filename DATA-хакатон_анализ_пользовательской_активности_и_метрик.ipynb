{
 "cells": [
  {
   "cell_type": "code",
   "execution_count": 1,
   "metadata": {},
   "outputs": [],
   "source": [
    "import pandas as pd\n",
    "import seaborn as sns\n",
    "import matplotlib.pyplot as plt\n",
    "import numpy as np\n",
    "from scipy.stats import shapiro\n",
    "import statsmodels.api as sm\n",
    "import plotly.figure_factory as ff\n",
    "import plotly\n",
    "from scipy.stats import t\n",
    "\n",
    "import os"
   ]
  },
  {
   "cell_type": "code",
   "execution_count": 2,
   "metadata": {},
   "outputs": [],
   "source": [
    "list_df = {}\n",
    "for i in os.listdir('/mnt/HC_Volume_18315164/home-jupyter/jupyter-r-ababkov/data_champ/'):\n",
    "    way_to_folder = '/mnt/HC_Volume_18315164/home-jupyter/jupyter-r-ababkov/data_champ/' + i\n",
    "    list_df[i.replace(\".csv\", \"\")] = way_to_folder"
   ]
  },
  {
   "cell_type": "code",
   "execution_count": 3,
   "metadata": {},
   "outputs": [],
   "source": [
    "dic_df = {}\n",
    "for k, v in list_df.items():\n",
    "    dic_df[k] = pd.read_csv(v, sep=';')"
   ]
  },
  {
   "cell_type": "code",
   "execution_count": 4,
   "metadata": {},
   "outputs": [
    {
     "data": {
      "text/plain": [
       "dict_keys(['lesson', 'chat', 'user_events', 'education_group', 'connection', 'user_info', 'education_test', 'student_test_result', 'curriculum_education_test', 'lesson_curriculum', 'meeting', 'event_types'])"
      ]
     },
     "execution_count": 4,
     "metadata": {},
     "output_type": "execute_result"
    }
   ],
   "source": [
    "list_df.keys()"
   ]
  },
  {
   "cell_type": "markdown",
   "metadata": {},
   "source": [
    "## Анализ таблиц"
   ]
  },
  {
   "cell_type": "code",
   "execution_count": 5,
   "metadata": {},
   "outputs": [],
   "source": [
    "# Количество запланированных уроков\n",
    "\n",
    "planned = dic_df['lesson'].groupby('type', as_index=False).agg({'id' : 'count'})"
   ]
  },
  {
   "cell_type": "code",
   "execution_count": 6,
   "metadata": {},
   "outputs": [],
   "source": [
    "dic_df['lesson'] = dic_df['lesson'].rename(columns={'id' : 'lesson_id'})"
   ]
  },
  {
   "cell_type": "code",
   "execution_count": 7,
   "metadata": {},
   "outputs": [],
   "source": [
    "lessons_meet = dic_df['meeting'].merge(dic_df['lesson'], how='inner')"
   ]
  },
  {
   "cell_type": "code",
   "execution_count": 8,
   "metadata": {
    "scrolled": false
   },
   "outputs": [],
   "source": [
    "# Количество проведенных уроков\n",
    "\n",
    "сonducted_lessons = lessons_meet.groupby('type', as_index=False).agg({'lesson_id' : 'count'})"
   ]
  },
  {
   "cell_type": "code",
   "execution_count": 9,
   "metadata": {},
   "outputs": [],
   "source": [
    "lessons = planned.merge(сonducted_lessons, how='left', on='type') \\\n",
    "    .rename(columns={'id' : 'planned', 'lesson_id' : 'done'}) \\\n",
    "    .fillna(0)\n",
    "\n",
    "lessons['done'] = lessons['done'].astype(int)\n",
    "\n",
    "lessons.head()\n",
    "lessons.to_csv('lessons.csv')"
   ]
  },
  {
   "cell_type": "code",
   "execution_count": 10,
   "metadata": {
    "scrolled": false
   },
   "outputs": [
    {
     "name": "stderr",
     "output_type": "stream",
     "text": [
      "/opt/tljh/user/lib/python3.7/site-packages/ipykernel_launcher.py:4: MatplotlibDeprecationWarning: Adding an axes using the same arguments as a previous axes currently reuses the earlier instance.  In a future version, a new instance will always be created and returned.  Meanwhile, this warning can be suppressed, and the future behavior ensured, by passing a unique label to each axes instance.\n",
      "  after removing the cwd from sys.path.\n"
     ]
    },
    {
     "data": {
      "image/png": "[encoded data removed]",
      "text/plain": [
       "<Figure size 1080x720 with 1 Axes>"
      ]
     },
     "metadata": {
      "needs_background": "light"
     },
     "output_type": "display_data"
    }
   ],
   "source": [
    "plt.figure(figsize=(15,10))\n",
    "plt.grid(color='grey')\n",
    "\n",
    "ax = plt.subplot()\n",
    "ax.bar(lessons[\"type\"], lessons[\"planned\"])\n",
    "ax.bar(lessons[\"type\"], lessons[\"done\"], color=\"maroon\")\n",
    "\n",
    "plt.xlabel('\\nТип урока', size= 16)\n",
    "plt.ylabel('Количество мероприятий\\n', size= 16)\n",
    "plt.title('Отношение запланированных и проведенных мероприятий\\n', size= 18)\n",
    "plt.savefig('planned_done_lessons.png')"
   ]
  },
  {
   "cell_type": "code",
   "execution_count": null,
   "metadata": {},
   "outputs": [],
   "source": []
  },
  {
   "cell_type": "markdown",
   "metadata": {},
   "source": [
    "## Синий цвет - запланировано, красный цвет - проведено"
   ]
  },
  {
   "cell_type": "code",
   "execution_count": 11,
   "metadata": {},
   "outputs": [],
   "source": [
    "group_by_user = dic_df['user_info'].groupby('education_group_id', as_index=False) \\\n",
    "    .agg({'user_id' : 'count'})"
   ]
  },
  {
   "cell_type": "code",
   "execution_count": null,
   "metadata": {},
   "outputs": [],
   "source": []
  },
  {
   "cell_type": "code",
   "execution_count": 12,
   "metadata": {},
   "outputs": [],
   "source": [
    "dic_df['user_events'] = dic_df['user_events'].rename(columns={'event_type_id' : 'id'})"
   ]
  },
  {
   "cell_type": "code",
   "execution_count": 13,
   "metadata": {},
   "outputs": [],
   "source": [
    "total = dic_df['user_events'].merge(dic_df['event_types'], how='inner')"
   ]
  },
  {
   "cell_type": "code",
   "execution_count": 14,
   "metadata": {},
   "outputs": [],
   "source": [
    "users = total.merge(dic_df['user_info'], how='inner')"
   ]
  },
  {
   "cell_type": "markdown",
   "metadata": {},
   "source": [
    "Средний процент выполнения домашек по users"
   ]
  },
  {
   "cell_type": "code",
   "execution_count": 15,
   "metadata": {},
   "outputs": [],
   "source": [
    "dic_df['student_test_result'] = dic_df['student_test_result'].rename(columns={'education_test_id' : 'id'})"
   ]
  },
  {
   "cell_type": "code",
   "execution_count": 16,
   "metadata": {},
   "outputs": [],
   "source": [
    "homeworks = dic_df['education_test'].merge(dic_df['student_test_result'], how='inner')"
   ]
  },
  {
   "cell_type": "code",
   "execution_count": 17,
   "metadata": {},
   "outputs": [
    {
     "data": {
      "text/html": [
       "<div>\n",
       "<style scoped>\n",
       "    .dataframe tbody tr th:only-of-type {\n",
       "        vertical-align: middle;\n",
       "    }\n",
       "\n",
       "    .dataframe tbody tr th {\n",
       "        vertical-align: top;\n",
       "    }\n",
       "\n",
       "    .dataframe thead th {\n",
       "        text-align: right;\n",
       "    }\n",
       "</style>\n",
       "<table border=\"1\" class=\"dataframe\">\n",
       "  <thead>\n",
       "    <tr style=\"text-align: right;\">\n",
       "      <th></th>\n",
       "      <th>id</th>\n",
       "      <th>title</th>\n",
       "      <th>type</th>\n",
       "      <th>student_id</th>\n",
       "      <th>attempts_count</th>\n",
       "      <th>spent_time</th>\n",
       "      <th>percent</th>\n",
       "      <th>result</th>\n",
       "      <th>created_at</th>\n",
       "      <th>updated_at</th>\n",
       "    </tr>\n",
       "  </thead>\n",
       "  <tbody>\n",
       "    <tr>\n",
       "      <th>0</th>\n",
       "      <td>129563</td>\n",
       "      <td>Задание 1</td>\n",
       "      <td>type6</td>\n",
       "      <td>9935451</td>\n",
       "      <td>1</td>\n",
       "      <td>149.0</td>\n",
       "      <td>0</td>\n",
       "      <td>false</td>\n",
       "      <td>2021-09-30 11:07:53</td>\n",
       "      <td>2021-09-30 12:54:35</td>\n",
       "    </tr>\n",
       "    <tr>\n",
       "      <th>1</th>\n",
       "      <td>129563</td>\n",
       "      <td>Задание 1</td>\n",
       "      <td>type6</td>\n",
       "      <td>10266835</td>\n",
       "      <td>1</td>\n",
       "      <td>12.0</td>\n",
       "      <td>0</td>\n",
       "      <td>false</td>\n",
       "      <td>2021-10-30 07:36:44</td>\n",
       "      <td>2021-11-07 09:04:31</td>\n",
       "    </tr>\n",
       "    <tr>\n",
       "      <th>2</th>\n",
       "      <td>129563</td>\n",
       "      <td>Задание 1</td>\n",
       "      <td>type6</td>\n",
       "      <td>1245466</td>\n",
       "      <td>1</td>\n",
       "      <td>206.0</td>\n",
       "      <td>100</td>\n",
       "      <td>true</td>\n",
       "      <td>2021-10-22 17:56:46</td>\n",
       "      <td>2021-10-23 18:19:10</td>\n",
       "    </tr>\n",
       "    <tr>\n",
       "      <th>3</th>\n",
       "      <td>129563</td>\n",
       "      <td>Задание 1</td>\n",
       "      <td>type6</td>\n",
       "      <td>10207647</td>\n",
       "      <td>1</td>\n",
       "      <td>748.0</td>\n",
       "      <td>100</td>\n",
       "      <td>true</td>\n",
       "      <td>2021-10-18 11:38:22</td>\n",
       "      <td>2021-10-18 12:41:51</td>\n",
       "    </tr>\n",
       "    <tr>\n",
       "      <th>4</th>\n",
       "      <td>129563</td>\n",
       "      <td>Задание 1</td>\n",
       "      <td>type6</td>\n",
       "      <td>9957566</td>\n",
       "      <td>1</td>\n",
       "      <td>141.0</td>\n",
       "      <td>100</td>\n",
       "      <td>true</td>\n",
       "      <td>2021-12-29 18:11:45</td>\n",
       "      <td>2022-01-09 07:32:12</td>\n",
       "    </tr>\n",
       "  </tbody>\n",
       "</table>\n",
       "</div>"
      ],
      "text/plain": [
       "       id      title   type  student_id  attempts_count  spent_time  percent  \\\n",
       "0  129563  Задание 1  type6     9935451               1       149.0        0   \n",
       "1  129563  Задание 1  type6    10266835               1        12.0        0   \n",
       "2  129563  Задание 1  type6     1245466               1       206.0      100   \n",
       "3  129563  Задание 1  type6    10207647               1       748.0      100   \n",
       "4  129563  Задание 1  type6     9957566               1       141.0      100   \n",
       "\n",
       "  result           created_at           updated_at  \n",
       "0  false  2021-09-30 11:07:53  2021-09-30 12:54:35  \n",
       "1  false  2021-10-30 07:36:44  2021-11-07 09:04:31  \n",
       "2   true  2021-10-22 17:56:46  2021-10-23 18:19:10  \n",
       "3   true  2021-10-18 11:38:22  2021-10-18 12:41:51  \n",
       "4   true  2021-12-29 18:11:45  2022-01-09 07:32:12  "
      ]
     },
     "execution_count": 17,
     "metadata": {},
     "output_type": "execute_result"
    }
   ],
   "source": [
    "homeworks.head()"
   ]
  },
  {
   "cell_type": "code",
   "execution_count": 18,
   "metadata": {},
   "outputs": [],
   "source": [
    "percent_by_user = homeworks.groupby(['student_id'], as_index=False) \\\n",
    "    .agg({'percent' : 'mean', 'spent_time' : 'mean'}) \\\n",
    "    .rename(columns={'student_id' : 'user_id', 'percent' : 'percent_mean', 'spent_time' : 'spent_time_mean'}) \\\n",
    "    .round(2)"
   ]
  },
  {
   "cell_type": "markdown",
   "metadata": {},
   "source": [
    "Среднее количество попыток на домашку"
   ]
  },
  {
   "cell_type": "code",
   "execution_count": 19,
   "metadata": {},
   "outputs": [],
   "source": [
    "st = dic_df['student_test_result'].groupby('student_id', as_index=False).attempts_count.mean()\n",
    "st = st.rename(columns={'student_id':'user_id'})"
   ]
  },
  {
   "cell_type": "code",
   "execution_count": 20,
   "metadata": {},
   "outputs": [],
   "source": [
    "percent_by_user = percent_by_user.merge(st, on='user_id')"
   ]
  },
  {
   "cell_type": "markdown",
   "metadata": {},
   "source": [
    "% успешного выполнения д\\з по каждому  виду д\\з (education_test). 4 тип не учитываем."
   ]
  },
  {
   "cell_type": "code",
   "execution_count": 21,
   "metadata": {},
   "outputs": [],
   "source": [
    "per_true = homeworks.query('result == \"true\"') \\\n",
    "    .groupby('type', as_index=False) \\\n",
    "    .agg({'student_id' : 'count'}) \\\n",
    "    .rename(columns={'student_id' : 'done'})"
   ]
  },
  {
   "cell_type": "code",
   "execution_count": 22,
   "metadata": {},
   "outputs": [],
   "source": [
    "total_hw = homeworks.groupby('type', as_index=False) \\\n",
    "    .agg({'student_id' : 'count'}) \\\n",
    "    .rename(columns={'student_id' : 'total'})"
   ]
  },
  {
   "cell_type": "code",
   "execution_count": 23,
   "metadata": {},
   "outputs": [],
   "source": [
    "per_true['total'] = total_hw['total']"
   ]
  },
  {
   "cell_type": "code",
   "execution_count": 24,
   "metadata": {},
   "outputs": [],
   "source": [
    "per_true['done_rate'] = (per_true.done / per_true.total * 100).round(2)\n",
    "per_true = per_true.query('type != \"type4\"')"
   ]
  },
  {
   "cell_type": "code",
   "execution_count": 25,
   "metadata": {},
   "outputs": [],
   "source": [
    "per_true.to_csv('per_true.csv')"
   ]
  },
  {
   "cell_type": "code",
   "execution_count": 26,
   "metadata": {},
   "outputs": [
    {
     "data": {
      "image/png": "[encoded data removed]",
      "text/plain": [
       "<Figure size 1008x864 with 1 Axes>"
      ]
     },
     "metadata": {
      "needs_background": "light"
     },
     "output_type": "display_data"
    }
   ],
   "source": [
    "plt.figure(figsize=(14, 12))\n",
    "\n",
    "ax = sns.barplot(data=per_true, x=\"type\", y=\"done_rate\")\n",
    "\n",
    "plt.xlabel('\\nТип урока', size= 16)\n",
    "plt.ylabel('% успешного выполнения Д\\З\\n', size= 16)\n",
    "plt.title('% успешного выполнения д\\з по каждому виду д\\з\\n', size= 18)\n",
    "plt.savefig('tests_%.png')"
   ]
  },
  {
   "cell_type": "markdown",
   "metadata": {},
   "source": [
    "Девайсы учеников"
   ]
  },
  {
   "cell_type": "code",
   "execution_count": 27,
   "metadata": {
    "scrolled": false
   },
   "outputs": [
    {
     "data": {
      "image/png": "[encoded data removed]",
      "text/plain": [
       "<Figure size 1008x864 with 1 Axes>"
      ]
     },
     "metadata": {
      "needs_background": "light"
     },
     "output_type": "display_data"
    }
   ],
   "source": [
    "device_users = dic_df['connection'].query('role == \"attendee\"') \\\n",
    "    .groupby('device', as_index = False) \\\n",
    "    .agg({'user_id' : 'count'}) \\\n",
    "    .rename(columns={'user_id' : 'size users devices'})\n",
    "\n",
    "plt.figure(figsize=(14, 12))\n",
    "\n",
    "sns.barplot(data=device_users, x=\"device\", y=\"size users devices\")\n",
    "\n",
    "plt.xlabel('\\nТип девайса', size= 16)\n",
    "plt.ylabel('Количество пользователей', size= 16)\n",
    "plt.title('Распределение количества учеников по девайсам\\n', size= 18)\n",
    "plt.savefig('device_users.png')"
   ]
  },
  {
   "cell_type": "code",
   "execution_count": 28,
   "metadata": {},
   "outputs": [],
   "source": [
    "device_users.to_csv('device_users.csv')"
   ]
  },
  {
   "cell_type": "markdown",
   "metadata": {},
   "source": [
    "Статистика по курсам"
   ]
  },
  {
   "cell_type": "code",
   "execution_count": 29,
   "metadata": {},
   "outputs": [],
   "source": [
    "courses = dic_df['education_group'].rename(columns={'id' : 'education_group_id'})\n",
    "\n",
    "courses = courses.merge(group_by_user)\n",
    "\n",
    "courses = courses.rename(columns={'user_id' : 'size_group'})\n",
    "\n",
    "courses = courses[['title', 'size_group']]"
   ]
  },
  {
   "cell_type": "code",
   "execution_count": 30,
   "metadata": {},
   "outputs": [],
   "source": [
    "courses_title = ['Информатика', 'Математика_1', 'Химия', 'Физика', 'Русский язык', 'Обществознание', 'Математика_2',\n",
    "                'Литература', 'История', 'Биология', 'Английский язык']\n",
    "\n",
    "courses['title'] = courses_title"
   ]
  },
  {
   "cell_type": "code",
   "execution_count": 31,
   "metadata": {},
   "outputs": [],
   "source": [
    "courses.to_csv('courses.csv')"
   ]
  },
  {
   "cell_type": "code",
   "execution_count": 32,
   "metadata": {},
   "outputs": [
    {
     "data": {
      "image/png": "[encoded data removed]",
      "text/plain": [
       "<Figure size 1008x864 with 1 Axes>"
      ]
     },
     "metadata": {
      "needs_background": "light"
     },
     "output_type": "display_data"
    }
   ],
   "source": [
    "plt.figure(figsize=(14, 12))\n",
    "\n",
    "sns.barplot(data=courses, x=\"title\", y=\"size_group\")\n",
    "\n",
    "plt.xlabel('\\nНазвание курса', size= 16)\n",
    "plt.ylabel('Количество учеников в группе\\n', size= 16)\n",
    "plt.title('Распределение количества учеников по курсам\\n', size= 18)\n",
    "plt.xticks(rotation=60)\n",
    "plt.savefig('courses.png')"
   ]
  },
  {
   "cell_type": "markdown",
   "metadata": {},
   "source": [
    "Количество правильных тестов"
   ]
  },
  {
   "cell_type": "code",
   "execution_count": 33,
   "metadata": {},
   "outputs": [
    {
     "data": {
      "text/html": [
       "<div>\n",
       "<style scoped>\n",
       "    .dataframe tbody tr th:only-of-type {\n",
       "        vertical-align: middle;\n",
       "    }\n",
       "\n",
       "    .dataframe tbody tr th {\n",
       "        vertical-align: top;\n",
       "    }\n",
       "\n",
       "    .dataframe thead th {\n",
       "        text-align: right;\n",
       "    }\n",
       "</style>\n",
       "<table border=\"1\" class=\"dataframe\">\n",
       "  <thead>\n",
       "    <tr style=\"text-align: right;\">\n",
       "      <th></th>\n",
       "      <th>id</th>\n",
       "      <th>title</th>\n",
       "      <th>type</th>\n",
       "      <th>student_id</th>\n",
       "      <th>attempts_count</th>\n",
       "      <th>spent_time</th>\n",
       "      <th>percent</th>\n",
       "      <th>result</th>\n",
       "      <th>created_at</th>\n",
       "      <th>updated_at</th>\n",
       "    </tr>\n",
       "  </thead>\n",
       "  <tbody>\n",
       "    <tr>\n",
       "      <th>0</th>\n",
       "      <td>129563</td>\n",
       "      <td>Задание 1</td>\n",
       "      <td>type6</td>\n",
       "      <td>9935451</td>\n",
       "      <td>1</td>\n",
       "      <td>149.0</td>\n",
       "      <td>0</td>\n",
       "      <td>false</td>\n",
       "      <td>2021-09-30 11:07:53</td>\n",
       "      <td>2021-09-30 12:54:35</td>\n",
       "    </tr>\n",
       "    <tr>\n",
       "      <th>1</th>\n",
       "      <td>129563</td>\n",
       "      <td>Задание 1</td>\n",
       "      <td>type6</td>\n",
       "      <td>10266835</td>\n",
       "      <td>1</td>\n",
       "      <td>12.0</td>\n",
       "      <td>0</td>\n",
       "      <td>false</td>\n",
       "      <td>2021-10-30 07:36:44</td>\n",
       "      <td>2021-11-07 09:04:31</td>\n",
       "    </tr>\n",
       "    <tr>\n",
       "      <th>2</th>\n",
       "      <td>129563</td>\n",
       "      <td>Задание 1</td>\n",
       "      <td>type6</td>\n",
       "      <td>1245466</td>\n",
       "      <td>1</td>\n",
       "      <td>206.0</td>\n",
       "      <td>100</td>\n",
       "      <td>true</td>\n",
       "      <td>2021-10-22 17:56:46</td>\n",
       "      <td>2021-10-23 18:19:10</td>\n",
       "    </tr>\n",
       "    <tr>\n",
       "      <th>3</th>\n",
       "      <td>129563</td>\n",
       "      <td>Задание 1</td>\n",
       "      <td>type6</td>\n",
       "      <td>10207647</td>\n",
       "      <td>1</td>\n",
       "      <td>748.0</td>\n",
       "      <td>100</td>\n",
       "      <td>true</td>\n",
       "      <td>2021-10-18 11:38:22</td>\n",
       "      <td>2021-10-18 12:41:51</td>\n",
       "    </tr>\n",
       "    <tr>\n",
       "      <th>4</th>\n",
       "      <td>129563</td>\n",
       "      <td>Задание 1</td>\n",
       "      <td>type6</td>\n",
       "      <td>9957566</td>\n",
       "      <td>1</td>\n",
       "      <td>141.0</td>\n",
       "      <td>100</td>\n",
       "      <td>true</td>\n",
       "      <td>2021-12-29 18:11:45</td>\n",
       "      <td>2022-01-09 07:32:12</td>\n",
       "    </tr>\n",
       "  </tbody>\n",
       "</table>\n",
       "</div>"
      ],
      "text/plain": [
       "       id      title   type  student_id  attempts_count  spent_time  percent  \\\n",
       "0  129563  Задание 1  type6     9935451               1       149.0        0   \n",
       "1  129563  Задание 1  type6    10266835               1        12.0        0   \n",
       "2  129563  Задание 1  type6     1245466               1       206.0      100   \n",
       "3  129563  Задание 1  type6    10207647               1       748.0      100   \n",
       "4  129563  Задание 1  type6     9957566               1       141.0      100   \n",
       "\n",
       "  result           created_at           updated_at  \n",
       "0  false  2021-09-30 11:07:53  2021-09-30 12:54:35  \n",
       "1  false  2021-10-30 07:36:44  2021-11-07 09:04:31  \n",
       "2   true  2021-10-22 17:56:46  2021-10-23 18:19:10  \n",
       "3   true  2021-10-18 11:38:22  2021-10-18 12:41:51  \n",
       "4   true  2021-12-29 18:11:45  2022-01-09 07:32:12  "
      ]
     },
     "execution_count": 33,
     "metadata": {},
     "output_type": "execute_result"
    }
   ],
   "source": [
    "homeworks.head()"
   ]
  },
  {
   "cell_type": "code",
   "execution_count": 34,
   "metadata": {},
   "outputs": [],
   "source": [
    "done_tests = homeworks.query('result == \"true\"') \\\n",
    "    .groupby('student_id', as_index=False) \\\n",
    "    .agg({'result' : 'count'}) \\\n",
    "    .rename(columns={'student_id' : 'user_id', 'result' : 'count_result'})"
   ]
  },
  {
   "cell_type": "markdown",
   "metadata": {},
   "source": [
    "Мержим наши метрики"
   ]
  },
  {
   "cell_type": "code",
   "execution_count": 35,
   "metadata": {},
   "outputs": [],
   "source": [
    "percent_by_user = percent_by_user.merge(done_tests, on='user_id')"
   ]
  },
  {
   "cell_type": "code",
   "execution_count": 36,
   "metadata": {},
   "outputs": [],
   "source": [
    "percent_by_user = percent_by_user.rename(columns={'percent_mean' : 'metric: mean percent by done homework',\n",
    "                                'spent_time_mean' : 'metric: mean percent do homework',\n",
    "                                'attempts_count' : 'metric: mean count attempts',\n",
    "                                'count_result' : 'metric: count done result'}).round(2)"
   ]
  },
  {
   "cell_type": "code",
   "execution_count": 37,
   "metadata": {},
   "outputs": [],
   "source": [
    "# metrics_to_excel = percent_by_user.sort_values('user_id')\n",
    "\n",
    "# metrics_to_excel"
   ]
  },
  {
   "cell_type": "markdown",
   "metadata": {},
   "source": [
    "### Считаем пользовательские активности"
   ]
  },
  {
   "cell_type": "code",
   "execution_count": 38,
   "metadata": {},
   "outputs": [],
   "source": [
    "focus_on = users.query('type == \"focus_on\"') \\\n",
    "    .groupby('user_id', as_index=False) \\\n",
    "    .agg({'type' : 'count'}) \\\n",
    "    .rename(columns={'type' : 'count_focus_on'}) \\\n",
    "    .sort_values('count_focus_on', ascending=False)"
   ]
  },
  {
   "cell_type": "code",
   "execution_count": 39,
   "metadata": {},
   "outputs": [],
   "source": [
    "microphone_on = users.query('type == \"microphone_on\"') \\\n",
    "    .groupby('user_id', as_index=False) \\\n",
    "    .agg({'type' : 'count'}) \\\n",
    "    .rename(columns={'type' : 'count_microphone_on'}) \\\n",
    "    .sort_values('count_microphone_on', ascending=False)"
   ]
  },
  {
   "cell_type": "code",
   "execution_count": 40,
   "metadata": {},
   "outputs": [],
   "source": [
    "visibility_on = users.query('type == \"visibility_on\"') \\\n",
    "    .groupby('user_id', as_index=False) \\\n",
    "    .agg({'type' : 'count'}) \\\n",
    "    .rename(columns={'type' : 'count_visibility_on'}) \\\n",
    "    .sort_values('count_visibility_on', ascending=False)"
   ]
  },
  {
   "cell_type": "code",
   "execution_count": 41,
   "metadata": {},
   "outputs": [],
   "source": [
    "notify_on = users.query('type == \"notify_on\"') \\\n",
    "    .groupby('user_id', as_index=False) \\\n",
    "    .agg({'type' : 'count'}) \\\n",
    "    .rename(columns={'type' : 'count_notify_on'}) \\\n",
    "    .sort_values('count_notify_on', ascending=False)"
   ]
  },
  {
   "cell_type": "code",
   "execution_count": 42,
   "metadata": {},
   "outputs": [],
   "source": [
    "count_webcam_on = users.query('type == \"webcam_on\"') \\\n",
    "    .groupby('user_id', as_index = False) \\\n",
    "    .agg({'type' : 'count'}) \\\n",
    "    .rename(columns={'type' : 'count_webcam_on'}) \\\n",
    "    .sort_values('count_webcam_on', ascending=False)"
   ]
  },
  {
   "cell_type": "code",
   "execution_count": 43,
   "metadata": {},
   "outputs": [],
   "source": [
    "size_group = group_by_user.rename(columns={'user_id' : 'count_size'}) \n",
    "\n",
    "users_size = users.merge(size_group, how='left', on='education_group_id')\n",
    "\n",
    "mean_size_group = users_size[['user_id', 'count_size']].groupby('user_id', as_index=False) \\\n",
    "    .agg({'count_size' : 'mean'})"
   ]
  },
  {
   "cell_type": "code",
   "execution_count": 44,
   "metadata": {},
   "outputs": [
    {
     "data": {
      "text/html": [
       "<div>\n",
       "<style scoped>\n",
       "    .dataframe tbody tr th:only-of-type {\n",
       "        vertical-align: middle;\n",
       "    }\n",
       "\n",
       "    .dataframe tbody tr th {\n",
       "        vertical-align: top;\n",
       "    }\n",
       "\n",
       "    .dataframe thead th {\n",
       "        text-align: right;\n",
       "    }\n",
       "</style>\n",
       "<table border=\"1\" class=\"dataframe\">\n",
       "  <thead>\n",
       "    <tr style=\"text-align: right;\">\n",
       "      <th></th>\n",
       "      <th>user_id</th>\n",
       "      <th>lesson_id</th>\n",
       "      <th>meet_id</th>\n",
       "      <th>conn_id</th>\n",
       "    </tr>\n",
       "  </thead>\n",
       "  <tbody>\n",
       "    <tr>\n",
       "      <th>0</th>\n",
       "      <td>9721639</td>\n",
       "      <td>1410284</td>\n",
       "      <td>282</td>\n",
       "      <td>6635</td>\n",
       "    </tr>\n",
       "  </tbody>\n",
       "</table>\n",
       "</div>"
      ],
      "text/plain": [
       "   user_id  lesson_id  meet_id  conn_id\n",
       "0  9721639    1410284      282     6635"
      ]
     },
     "execution_count": 44,
     "metadata": {},
     "output_type": "execute_result"
    }
   ],
   "source": [
    "# Среднее количество времени на уроке\n",
    "\n",
    "users_diff = dic_df[\"user_info\"]\n",
    "connections = dic_df[\"connection\"]\n",
    "lessons = dic_df[\"lesson\"]\n",
    "meetings = dic_df[\"meeting\"]\n",
    "\n",
    "connections['conn_duration'] = pd.to_datetime(connections.lefted_at) - pd.to_datetime(connections.joined_at)\n",
    "connections['conn_id'] = connections.index \n",
    "connections[['user_id', 'lesson_id', 'conn_duration']]\n",
    "\n",
    "meetings['meet_duration'] = pd.to_datetime(meetings.ended_at) - pd.to_datetime(meetings.created_at)\n",
    "meetings['meet_id'] = meetings.index \n",
    "\n",
    "meetings[['lesson_id' ,'meet_duration']]\n",
    "\n",
    "usr_con_met = users_diff.merge(connections, on='user_id', how='inner').merge(meetings, on='lesson_id', how='inner')\n",
    "\n",
    "usr_con_met_no_edu_grp = usr_con_met.copy()\n",
    "usr_con_met_no_edu_grp = usr_con_met_no_edu_grp.drop_duplicates(subset=['user_id', 'lesson_id', 'meet_id', 'conn_id'])\n",
    "\n",
    "usr_con_met_no_edu_grp.query('user_id == 9721639 & lesson_id == 1410284')[['user_id', 'lesson_id', 'meet_id', 'conn_id']]"
   ]
  },
  {
   "cell_type": "code",
   "execution_count": 45,
   "metadata": {},
   "outputs": [
    {
     "data": {
      "text/plain": [
       "count    430.000000\n",
       "mean       0.716421\n",
       "std        0.201192\n",
       "min        0.006659\n",
       "25%        0.670956\n",
       "50%        0.780790\n",
       "75%        0.841429\n",
       "max        0.976918\n",
       "Name: conn_part_of_meet, dtype: float64"
      ]
     },
     "execution_count": 45,
     "metadata": {},
     "output_type": "execute_result"
    }
   ],
   "source": [
    "usr_con_met_no_edu_grp[['user_id', 'lesson_id', 'meet_id', 'conn_id', 'meet_duration', 'conn_duration']].sort_values(['user_id', 'lesson_id', 'meet_id', 'conn_id'])\n",
    "usr_con_met_no_edu_grp['conn_part_of_meet'] = usr_con_met_no_edu_grp.conn_duration / usr_con_met_no_edu_grp.meet_duration\n",
    "usr_con_met_no_edu_grp_grouped = usr_con_met_no_edu_grp.groupby(['user_id', 'lesson_id', 'meet_id']).sum()\n",
    "usr_con_met_no_edu_grp_grouped = usr_con_met_no_edu_grp_grouped.reset_index().groupby('user_id').mean().reset_index()\n",
    "usr_con_met_no_edu_grp_grouped = usr_con_met_no_edu_grp_grouped.drop(usr_con_met_no_edu_grp_grouped[usr_con_met_no_edu_grp_grouped.conn_part_of_meet > 1].index)\n",
    "usr_con_met_no_edu_grp_grouped[['user_id', 'conn_part_of_meet']]\n",
    "usr_con_met_no_edu_grp_grouped['conn_part_of_meet'].describe()"
   ]
  },
  {
   "cell_type": "code",
   "execution_count": 46,
   "metadata": {},
   "outputs": [],
   "source": [
    "usr_con_met_no_edu_grp_grouped['conn_part_of_meet'] = (usr_con_met_no_edu_grp_grouped['conn_part_of_meet'] * 100).round(2)"
   ]
  },
  {
   "cell_type": "code",
   "execution_count": 47,
   "metadata": {},
   "outputs": [],
   "source": [
    "percent_on_stream = usr_con_met_no_edu_grp_grouped[['user_id', 'conn_part_of_meet']].rename(columns={'conn_part_of_meet' : 'mean_percent_time_on_lesson'})"
   ]
  },
  {
   "cell_type": "markdown",
   "metadata": {},
   "source": [
    "### Сопоставляем с метриками"
   ]
  },
  {
   "cell_type": "code",
   "execution_count": 48,
   "metadata": {},
   "outputs": [],
   "source": [
    "merge1 = percent_by_user.merge(count_webcam_on, how='left', on='user_id')"
   ]
  },
  {
   "cell_type": "code",
   "execution_count": 49,
   "metadata": {},
   "outputs": [],
   "source": [
    "merge2 = merge1.merge(notify_on, how='left', on='user_id')"
   ]
  },
  {
   "cell_type": "code",
   "execution_count": 50,
   "metadata": {},
   "outputs": [],
   "source": [
    "merge3 = merge2.merge(visibility_on, how='left', on='user_id')"
   ]
  },
  {
   "cell_type": "code",
   "execution_count": 51,
   "metadata": {},
   "outputs": [],
   "source": [
    "merge4 = merge3.merge(microphone_on, how='left', on='user_id')"
   ]
  },
  {
   "cell_type": "code",
   "execution_count": 52,
   "metadata": {},
   "outputs": [],
   "source": [
    "merge5 = merge4.merge(focus_on, how='left', on='user_id')"
   ]
  },
  {
   "cell_type": "code",
   "execution_count": 53,
   "metadata": {},
   "outputs": [],
   "source": [
    "merge6 = merge5.merge(mean_size_group, how='left', on='user_id')"
   ]
  },
  {
   "cell_type": "code",
   "execution_count": 54,
   "metadata": {},
   "outputs": [],
   "source": [
    "merge7 = merge6.merge(percent_on_stream, how='left', on='user_id')"
   ]
  },
  {
   "cell_type": "code",
   "execution_count": 55,
   "metadata": {},
   "outputs": [],
   "source": [
    "merge7 = merge7.fillna(0)"
   ]
  },
  {
   "cell_type": "code",
   "execution_count": 56,
   "metadata": {
    "scrolled": false
   },
   "outputs": [],
   "source": [
    "merge7 = merge7.drop(['user_id'], axis=1)"
   ]
  },
  {
   "cell_type": "code",
   "execution_count": 57,
   "metadata": {},
   "outputs": [
    {
     "data": {
      "text/html": [
       "<div>\n",
       "<style scoped>\n",
       "    .dataframe tbody tr th:only-of-type {\n",
       "        vertical-align: middle;\n",
       "    }\n",
       "\n",
       "    .dataframe tbody tr th {\n",
       "        vertical-align: top;\n",
       "    }\n",
       "\n",
       "    .dataframe thead th {\n",
       "        text-align: right;\n",
       "    }\n",
       "</style>\n",
       "<table border=\"1\" class=\"dataframe\">\n",
       "  <thead>\n",
       "    <tr style=\"text-align: right;\">\n",
       "      <th></th>\n",
       "      <th>metric: mean percent by done homework</th>\n",
       "      <th>metric: mean percent do homework</th>\n",
       "      <th>metric: mean count attempts</th>\n",
       "      <th>metric: count done result</th>\n",
       "      <th>count_webcam_on</th>\n",
       "      <th>count_notify_on</th>\n",
       "      <th>count_visibility_on</th>\n",
       "      <th>count_microphone_on</th>\n",
       "      <th>count_focus_on</th>\n",
       "      <th>count_size</th>\n",
       "      <th>mean_percent_time_on_lesson</th>\n",
       "    </tr>\n",
       "  </thead>\n",
       "  <tbody>\n",
       "    <tr>\n",
       "      <th>0</th>\n",
       "      <td>78.85</td>\n",
       "      <td>161.30</td>\n",
       "      <td>1.57</td>\n",
       "      <td>44</td>\n",
       "      <td>0.0</td>\n",
       "      <td>0.0</td>\n",
       "      <td>0.0</td>\n",
       "      <td>0.0</td>\n",
       "      <td>0.0</td>\n",
       "      <td>0.0</td>\n",
       "      <td>0.00</td>\n",
       "    </tr>\n",
       "    <tr>\n",
       "      <th>1</th>\n",
       "      <td>100.00</td>\n",
       "      <td>167.67</td>\n",
       "      <td>1.08</td>\n",
       "      <td>12</td>\n",
       "      <td>0.0</td>\n",
       "      <td>1.0</td>\n",
       "      <td>0.0</td>\n",
       "      <td>0.0</td>\n",
       "      <td>1.0</td>\n",
       "      <td>109.0</td>\n",
       "      <td>2.62</td>\n",
       "    </tr>\n",
       "    <tr>\n",
       "      <th>2</th>\n",
       "      <td>90.00</td>\n",
       "      <td>134.67</td>\n",
       "      <td>1.23</td>\n",
       "      <td>27</td>\n",
       "      <td>0.0</td>\n",
       "      <td>0.0</td>\n",
       "      <td>42.0</td>\n",
       "      <td>0.0</td>\n",
       "      <td>44.0</td>\n",
       "      <td>140.5</td>\n",
       "      <td>53.46</td>\n",
       "    </tr>\n",
       "    <tr>\n",
       "      <th>3</th>\n",
       "      <td>95.45</td>\n",
       "      <td>10.82</td>\n",
       "      <td>1.23</td>\n",
       "      <td>21</td>\n",
       "      <td>0.0</td>\n",
       "      <td>0.0</td>\n",
       "      <td>0.0</td>\n",
       "      <td>0.0</td>\n",
       "      <td>0.0</td>\n",
       "      <td>0.0</td>\n",
       "      <td>0.00</td>\n",
       "    </tr>\n",
       "    <tr>\n",
       "      <th>4</th>\n",
       "      <td>83.33</td>\n",
       "      <td>71.00</td>\n",
       "      <td>1.43</td>\n",
       "      <td>50</td>\n",
       "      <td>0.0</td>\n",
       "      <td>27.0</td>\n",
       "      <td>24.0</td>\n",
       "      <td>0.0</td>\n",
       "      <td>38.0</td>\n",
       "      <td>207.0</td>\n",
       "      <td>88.10</td>\n",
       "    </tr>\n",
       "    <tr>\n",
       "      <th>...</th>\n",
       "      <td>...</td>\n",
       "      <td>...</td>\n",
       "      <td>...</td>\n",
       "      <td>...</td>\n",
       "      <td>...</td>\n",
       "      <td>...</td>\n",
       "      <td>...</td>\n",
       "      <td>...</td>\n",
       "      <td>...</td>\n",
       "      <td>...</td>\n",
       "      <td>...</td>\n",
       "    </tr>\n",
       "    <tr>\n",
       "      <th>570</th>\n",
       "      <td>58.33</td>\n",
       "      <td>85.25</td>\n",
       "      <td>2.17</td>\n",
       "      <td>7</td>\n",
       "      <td>0.0</td>\n",
       "      <td>0.0</td>\n",
       "      <td>0.0</td>\n",
       "      <td>0.0</td>\n",
       "      <td>0.0</td>\n",
       "      <td>0.0</td>\n",
       "      <td>0.00</td>\n",
       "    </tr>\n",
       "    <tr>\n",
       "      <th>571</th>\n",
       "      <td>15.00</td>\n",
       "      <td>73.80</td>\n",
       "      <td>2.67</td>\n",
       "      <td>2</td>\n",
       "      <td>0.0</td>\n",
       "      <td>0.0</td>\n",
       "      <td>0.0</td>\n",
       "      <td>0.0</td>\n",
       "      <td>0.0</td>\n",
       "      <td>0.0</td>\n",
       "      <td>0.00</td>\n",
       "    </tr>\n",
       "    <tr>\n",
       "      <th>572</th>\n",
       "      <td>83.87</td>\n",
       "      <td>16.35</td>\n",
       "      <td>1.77</td>\n",
       "      <td>26</td>\n",
       "      <td>0.0</td>\n",
       "      <td>0.0</td>\n",
       "      <td>21.0</td>\n",
       "      <td>0.0</td>\n",
       "      <td>36.0</td>\n",
       "      <td>42.0</td>\n",
       "      <td>70.01</td>\n",
       "    </tr>\n",
       "    <tr>\n",
       "      <th>573</th>\n",
       "      <td>59.32</td>\n",
       "      <td>31.18</td>\n",
       "      <td>1.89</td>\n",
       "      <td>30</td>\n",
       "      <td>0.0</td>\n",
       "      <td>0.0</td>\n",
       "      <td>0.0</td>\n",
       "      <td>0.0</td>\n",
       "      <td>4.0</td>\n",
       "      <td>203.0</td>\n",
       "      <td>73.91</td>\n",
       "    </tr>\n",
       "    <tr>\n",
       "      <th>574</th>\n",
       "      <td>93.75</td>\n",
       "      <td>230.00</td>\n",
       "      <td>1.56</td>\n",
       "      <td>15</td>\n",
       "      <td>0.0</td>\n",
       "      <td>0.0</td>\n",
       "      <td>0.0</td>\n",
       "      <td>0.0</td>\n",
       "      <td>12.0</td>\n",
       "      <td>178.0</td>\n",
       "      <td>90.33</td>\n",
       "    </tr>\n",
       "  </tbody>\n",
       "</table>\n",
       "<p>575 rows × 11 columns</p>\n",
       "</div>"
      ],
      "text/plain": [
       "     metric: mean percent by done homework  metric: mean percent do homework  \\\n",
       "0                                    78.85                            161.30   \n",
       "1                                   100.00                            167.67   \n",
       "2                                    90.00                            134.67   \n",
       "3                                    95.45                             10.82   \n",
       "4                                    83.33                             71.00   \n",
       "..                                     ...                               ...   \n",
       "570                                  58.33                             85.25   \n",
       "571                                  15.00                             73.80   \n",
       "572                                  83.87                             16.35   \n",
       "573                                  59.32                             31.18   \n",
       "574                                  93.75                            230.00   \n",
       "\n",
       "     metric: mean count attempts  metric: count done result  count_webcam_on  \\\n",
       "0                           1.57                         44              0.0   \n",
       "1                           1.08                         12              0.0   \n",
       "2                           1.23                         27              0.0   \n",
       "3                           1.23                         21              0.0   \n",
       "4                           1.43                         50              0.0   \n",
       "..                           ...                        ...              ...   \n",
       "570                         2.17                          7              0.0   \n",
       "571                         2.67                          2              0.0   \n",
       "572                         1.77                         26              0.0   \n",
       "573                         1.89                         30              0.0   \n",
       "574                         1.56                         15              0.0   \n",
       "\n",
       "     count_notify_on  count_visibility_on  count_microphone_on  \\\n",
       "0                0.0                  0.0                  0.0   \n",
       "1                1.0                  0.0                  0.0   \n",
       "2                0.0                 42.0                  0.0   \n",
       "3                0.0                  0.0                  0.0   \n",
       "4               27.0                 24.0                  0.0   \n",
       "..               ...                  ...                  ...   \n",
       "570              0.0                  0.0                  0.0   \n",
       "571              0.0                  0.0                  0.0   \n",
       "572              0.0                 21.0                  0.0   \n",
       "573              0.0                  0.0                  0.0   \n",
       "574              0.0                  0.0                  0.0   \n",
       "\n",
       "     count_focus_on  count_size  mean_percent_time_on_lesson  \n",
       "0               0.0         0.0                         0.00  \n",
       "1               1.0       109.0                         2.62  \n",
       "2              44.0       140.5                        53.46  \n",
       "3               0.0         0.0                         0.00  \n",
       "4              38.0       207.0                        88.10  \n",
       "..              ...         ...                          ...  \n",
       "570             0.0         0.0                         0.00  \n",
       "571             0.0         0.0                         0.00  \n",
       "572            36.0        42.0                        70.01  \n",
       "573             4.0       203.0                        73.91  \n",
       "574            12.0       178.0                        90.33  \n",
       "\n",
       "[575 rows x 11 columns]"
      ]
     },
     "execution_count": 57,
     "metadata": {},
     "output_type": "execute_result"
    }
   ],
   "source": [
    "merge7"
   ]
  },
  {
   "cell_type": "code",
   "execution_count": 58,
   "metadata": {},
   "outputs": [],
   "source": [
    "normal_test = []\n",
    "for i in merge7.columns:\n",
    "    shap = shapiro(merge7[i])\n",
    "    if shap.pvalue < 0.05:\n",
    "        normal_test.append(shap)\n",
    "    else:\n",
    "        continue"
   ]
  },
  {
   "cell_type": "code",
   "execution_count": 59,
   "metadata": {},
   "outputs": [
    {
     "data": {
      "text/plain": [
       "[ShapiroResult(statistic=0.9225860834121704, pvalue=1.308009982369364e-16),\n",
       " ShapiroResult(statistic=0.7921363115310669, pvalue=1.8649171000466304e-26),\n",
       " ShapiroResult(statistic=0.964789092540741, pvalue=1.647572356322513e-10),\n",
       " ShapiroResult(statistic=0.6418571472167969, pvalue=6.285056787843803e-33),\n",
       " ShapiroResult(statistic=0.11180669069290161, pvalue=2.802596928649634e-45),\n",
       " ShapiroResult(statistic=0.26585978269577026, pvalue=1.3074114672150543e-42),\n",
       " ShapiroResult(statistic=0.2749726176261902, pvalue=1.975830834697992e-42),\n",
       " ShapiroResult(statistic=0.12295520305633545, pvalue=2.802596928649634e-45),\n",
       " ShapiroResult(statistic=0.25423121452331543, pvalue=7.763193492359487e-43),\n",
       " ShapiroResult(statistic=0.8530418872833252, pvalue=1.0150078892151712e-22),\n",
       " ShapiroResult(statistic=0.7714766263961792, pvalue=1.5741612474573377e-27)]"
      ]
     },
     "execution_count": 59,
     "metadata": {},
     "output_type": "execute_result"
    }
   ],
   "source": [
    "normal_test"
   ]
  },
  {
   "cell_type": "markdown",
   "metadata": {},
   "source": [
    "### Логарифмируем"
   ]
  },
  {
   "cell_type": "code",
   "execution_count": 60,
   "metadata": {},
   "outputs": [],
   "source": [
    "merge_log = merge7.copy()"
   ]
  },
  {
   "cell_type": "code",
   "execution_count": 61,
   "metadata": {},
   "outputs": [],
   "source": [
    "merge_log \\\n",
    "    .loc[:, ['metric: mean percent by done homework', 'metric: mean percent do homework', 'metric: mean count attempts',\n",
    "            'metric: count done result', 'count_webcam_on', \n",
    "            'count_notify_on', 'count_visibility_on',\n",
    "            'count_microphone_on', 'count_focus_on', 'count_size', 'mean_percent_time_on_lesson']] += 1"
   ]
  },
  {
   "cell_type": "code",
   "execution_count": 62,
   "metadata": {},
   "outputs": [],
   "source": [
    "merge_log['metric: mean percent by done homework'] = np.log(merge_log['metric: mean percent by done homework'])"
   ]
  },
  {
   "cell_type": "code",
   "execution_count": 63,
   "metadata": {},
   "outputs": [],
   "source": [
    "merge_log['metric: mean percent do homework'] = np.log(merge_log['metric: mean percent do homework'])"
   ]
  },
  {
   "cell_type": "code",
   "execution_count": 64,
   "metadata": {},
   "outputs": [],
   "source": [
    "merge_log['metric: mean count attempts'] = np.log(merge_log['metric: mean count attempts'])"
   ]
  },
  {
   "cell_type": "code",
   "execution_count": 65,
   "metadata": {},
   "outputs": [],
   "source": [
    "merge_log['metric: count done result'] = np.log(merge_log['metric: count done result'])"
   ]
  },
  {
   "cell_type": "code",
   "execution_count": 66,
   "metadata": {},
   "outputs": [],
   "source": [
    "merge_log['count_webcam_on'] = np.log(merge_log.count_webcam_on)"
   ]
  },
  {
   "cell_type": "code",
   "execution_count": 67,
   "metadata": {},
   "outputs": [],
   "source": [
    "merge_log['count_notify_on'] = np.log(merge_log.count_notify_on)"
   ]
  },
  {
   "cell_type": "code",
   "execution_count": 68,
   "metadata": {},
   "outputs": [],
   "source": [
    "merge_log['count_visibility_on'] = np.log(merge_log.count_visibility_on)"
   ]
  },
  {
   "cell_type": "code",
   "execution_count": 69,
   "metadata": {},
   "outputs": [],
   "source": [
    "merge_log['count_microphone_on'] = np.log(merge_log.count_microphone_on)"
   ]
  },
  {
   "cell_type": "code",
   "execution_count": 70,
   "metadata": {},
   "outputs": [],
   "source": [
    "merge_log['count_focus_on'] = np.log(merge_log.count_focus_on)"
   ]
  },
  {
   "cell_type": "code",
   "execution_count": 71,
   "metadata": {},
   "outputs": [],
   "source": [
    "merge_log['count_size'] = np.log(merge_log.count_size)"
   ]
  },
  {
   "cell_type": "code",
   "execution_count": 72,
   "metadata": {},
   "outputs": [],
   "source": [
    "merge_log['mean_percent_time_on_lesson'] = np.log(merge_log.mean_percent_time_on_lesson)"
   ]
  },
  {
   "cell_type": "markdown",
   "metadata": {},
   "source": [
    "Корреляция"
   ]
  },
  {
   "cell_type": "code",
   "execution_count": 73,
   "metadata": {},
   "outputs": [],
   "source": [
    "corr = merge_log.corr(method='spearman')"
   ]
  },
  {
   "cell_type": "code",
   "execution_count": 74,
   "metadata": {},
   "outputs": [
    {
     "data": {
      "text/html": [
       "<div>\n",
       "<style scoped>\n",
       "    .dataframe tbody tr th:only-of-type {\n",
       "        vertical-align: middle;\n",
       "    }\n",
       "\n",
       "    .dataframe tbody tr th {\n",
       "        vertical-align: top;\n",
       "    }\n",
       "\n",
       "    .dataframe thead th {\n",
       "        text-align: right;\n",
       "    }\n",
       "</style>\n",
       "<table border=\"1\" class=\"dataframe\">\n",
       "  <thead>\n",
       "    <tr style=\"text-align: right;\">\n",
       "      <th></th>\n",
       "      <th>metric: mean percent by done homework</th>\n",
       "      <th>metric: mean percent do homework</th>\n",
       "      <th>metric: mean count attempts</th>\n",
       "      <th>metric: count done result</th>\n",
       "      <th>count_webcam_on</th>\n",
       "      <th>count_notify_on</th>\n",
       "      <th>count_visibility_on</th>\n",
       "      <th>count_microphone_on</th>\n",
       "      <th>count_focus_on</th>\n",
       "      <th>count_size</th>\n",
       "      <th>mean_percent_time_on_lesson</th>\n",
       "    </tr>\n",
       "  </thead>\n",
       "  <tbody>\n",
       "    <tr>\n",
       "      <th>metric: mean percent by done homework</th>\n",
       "      <td>1.000000</td>\n",
       "      <td>0.188530</td>\n",
       "      <td>-0.524311</td>\n",
       "      <td>0.316544</td>\n",
       "      <td>0.017005</td>\n",
       "      <td>0.048081</td>\n",
       "      <td>0.018821</td>\n",
       "      <td>-0.092578</td>\n",
       "      <td>0.063177</td>\n",
       "      <td>0.018596</td>\n",
       "      <td>-0.038749</td>\n",
       "    </tr>\n",
       "    <tr>\n",
       "      <th>metric: mean percent do homework</th>\n",
       "      <td>0.188530</td>\n",
       "      <td>1.000000</td>\n",
       "      <td>-0.332454</td>\n",
       "      <td>0.043965</td>\n",
       "      <td>-0.010290</td>\n",
       "      <td>0.066486</td>\n",
       "      <td>0.053644</td>\n",
       "      <td>-0.040322</td>\n",
       "      <td>0.120699</td>\n",
       "      <td>0.016643</td>\n",
       "      <td>0.069799</td>\n",
       "    </tr>\n",
       "    <tr>\n",
       "      <th>metric: mean count attempts</th>\n",
       "      <td>-0.524311</td>\n",
       "      <td>-0.332454</td>\n",
       "      <td>1.000000</td>\n",
       "      <td>-0.049995</td>\n",
       "      <td>0.091924</td>\n",
       "      <td>0.020799</td>\n",
       "      <td>0.061163</td>\n",
       "      <td>0.160860</td>\n",
       "      <td>-0.008063</td>\n",
       "      <td>0.024354</td>\n",
       "      <td>0.059778</td>\n",
       "    </tr>\n",
       "    <tr>\n",
       "      <th>metric: count done result</th>\n",
       "      <td>0.316544</td>\n",
       "      <td>0.043965</td>\n",
       "      <td>-0.049995</td>\n",
       "      <td>1.000000</td>\n",
       "      <td>0.230946</td>\n",
       "      <td>0.257696</td>\n",
       "      <td>0.385288</td>\n",
       "      <td>0.065778</td>\n",
       "      <td>0.347452</td>\n",
       "      <td>0.190663</td>\n",
       "      <td>0.224752</td>\n",
       "    </tr>\n",
       "    <tr>\n",
       "      <th>count_webcam_on</th>\n",
       "      <td>0.017005</td>\n",
       "      <td>-0.010290</td>\n",
       "      <td>0.091924</td>\n",
       "      <td>0.230946</td>\n",
       "      <td>1.000000</td>\n",
       "      <td>0.282627</td>\n",
       "      <td>0.319315</td>\n",
       "      <td>0.131198</td>\n",
       "      <td>0.309957</td>\n",
       "      <td>0.238372</td>\n",
       "      <td>0.312950</td>\n",
       "    </tr>\n",
       "    <tr>\n",
       "      <th>count_notify_on</th>\n",
       "      <td>0.048081</td>\n",
       "      <td>0.066486</td>\n",
       "      <td>0.020799</td>\n",
       "      <td>0.257696</td>\n",
       "      <td>0.282627</td>\n",
       "      <td>1.000000</td>\n",
       "      <td>0.480366</td>\n",
       "      <td>0.071181</td>\n",
       "      <td>0.603886</td>\n",
       "      <td>0.404346</td>\n",
       "      <td>0.444618</td>\n",
       "    </tr>\n",
       "    <tr>\n",
       "      <th>count_visibility_on</th>\n",
       "      <td>0.018821</td>\n",
       "      <td>0.053644</td>\n",
       "      <td>0.061163</td>\n",
       "      <td>0.385288</td>\n",
       "      <td>0.319315</td>\n",
       "      <td>0.480366</td>\n",
       "      <td>1.000000</td>\n",
       "      <td>0.236425</td>\n",
       "      <td>0.815841</td>\n",
       "      <td>0.646678</td>\n",
       "      <td>0.643855</td>\n",
       "    </tr>\n",
       "    <tr>\n",
       "      <th>count_microphone_on</th>\n",
       "      <td>-0.092578</td>\n",
       "      <td>-0.040322</td>\n",
       "      <td>0.160860</td>\n",
       "      <td>0.065778</td>\n",
       "      <td>0.131198</td>\n",
       "      <td>0.071181</td>\n",
       "      <td>0.236425</td>\n",
       "      <td>1.000000</td>\n",
       "      <td>0.010665</td>\n",
       "      <td>0.067963</td>\n",
       "      <td>0.107317</td>\n",
       "    </tr>\n",
       "    <tr>\n",
       "      <th>count_focus_on</th>\n",
       "      <td>0.063177</td>\n",
       "      <td>0.120699</td>\n",
       "      <td>-0.008063</td>\n",
       "      <td>0.347452</td>\n",
       "      <td>0.309957</td>\n",
       "      <td>0.603886</td>\n",
       "      <td>0.815841</td>\n",
       "      <td>0.010665</td>\n",
       "      <td>1.000000</td>\n",
       "      <td>0.653523</td>\n",
       "      <td>0.663887</td>\n",
       "    </tr>\n",
       "    <tr>\n",
       "      <th>count_size</th>\n",
       "      <td>0.018596</td>\n",
       "      <td>0.016643</td>\n",
       "      <td>0.024354</td>\n",
       "      <td>0.190663</td>\n",
       "      <td>0.238372</td>\n",
       "      <td>0.404346</td>\n",
       "      <td>0.646678</td>\n",
       "      <td>0.067963</td>\n",
       "      <td>0.653523</td>\n",
       "      <td>1.000000</td>\n",
       "      <td>0.669558</td>\n",
       "    </tr>\n",
       "    <tr>\n",
       "      <th>mean_percent_time_on_lesson</th>\n",
       "      <td>-0.038749</td>\n",
       "      <td>0.069799</td>\n",
       "      <td>0.059778</td>\n",
       "      <td>0.224752</td>\n",
       "      <td>0.312950</td>\n",
       "      <td>0.444618</td>\n",
       "      <td>0.643855</td>\n",
       "      <td>0.107317</td>\n",
       "      <td>0.663887</td>\n",
       "      <td>0.669558</td>\n",
       "      <td>1.000000</td>\n",
       "    </tr>\n",
       "  </tbody>\n",
       "</table>\n",
       "</div>"
      ],
      "text/plain": [
       "                                       metric: mean percent by done homework  \\\n",
       "metric: mean percent by done homework                               1.000000   \n",
       "metric: mean percent do homework                                    0.188530   \n",
       "metric: mean count attempts                                        -0.524311   \n",
       "metric: count done result                                           0.316544   \n",
       "count_webcam_on                                                     0.017005   \n",
       "count_notify_on                                                     0.048081   \n",
       "count_visibility_on                                                 0.018821   \n",
       "count_microphone_on                                                -0.092578   \n",
       "count_focus_on                                                      0.063177   \n",
       "count_size                                                          0.018596   \n",
       "mean_percent_time_on_lesson                                        -0.038749   \n",
       "\n",
       "                                       metric: mean percent do homework  \\\n",
       "metric: mean percent by done homework                          0.188530   \n",
       "metric: mean percent do homework                               1.000000   \n",
       "metric: mean count attempts                                   -0.332454   \n",
       "metric: count done result                                      0.043965   \n",
       "count_webcam_on                                               -0.010290   \n",
       "count_notify_on                                                0.066486   \n",
       "count_visibility_on                                            0.053644   \n",
       "count_microphone_on                                           -0.040322   \n",
       "count_focus_on                                                 0.120699   \n",
       "count_size                                                     0.016643   \n",
       "mean_percent_time_on_lesson                                    0.069799   \n",
       "\n",
       "                                       metric: mean count attempts  \\\n",
       "metric: mean percent by done homework                    -0.524311   \n",
       "metric: mean percent do homework                         -0.332454   \n",
       "metric: mean count attempts                               1.000000   \n",
       "metric: count done result                                -0.049995   \n",
       "count_webcam_on                                           0.091924   \n",
       "count_notify_on                                           0.020799   \n",
       "count_visibility_on                                       0.061163   \n",
       "count_microphone_on                                       0.160860   \n",
       "count_focus_on                                           -0.008063   \n",
       "count_size                                                0.024354   \n",
       "mean_percent_time_on_lesson                               0.059778   \n",
       "\n",
       "                                       metric: count done result  \\\n",
       "metric: mean percent by done homework                   0.316544   \n",
       "metric: mean percent do homework                        0.043965   \n",
       "metric: mean count attempts                            -0.049995   \n",
       "metric: count done result                               1.000000   \n",
       "count_webcam_on                                         0.230946   \n",
       "count_notify_on                                         0.257696   \n",
       "count_visibility_on                                     0.385288   \n",
       "count_microphone_on                                     0.065778   \n",
       "count_focus_on                                          0.347452   \n",
       "count_size                                              0.190663   \n",
       "mean_percent_time_on_lesson                             0.224752   \n",
       "\n",
       "                                       count_webcam_on  count_notify_on  \\\n",
       "metric: mean percent by done homework         0.017005         0.048081   \n",
       "metric: mean percent do homework             -0.010290         0.066486   \n",
       "metric: mean count attempts                   0.091924         0.020799   \n",
       "metric: count done result                     0.230946         0.257696   \n",
       "count_webcam_on                               1.000000         0.282627   \n",
       "count_notify_on                               0.282627         1.000000   \n",
       "count_visibility_on                           0.319315         0.480366   \n",
       "count_microphone_on                           0.131198         0.071181   \n",
       "count_focus_on                                0.309957         0.603886   \n",
       "count_size                                    0.238372         0.404346   \n",
       "mean_percent_time_on_lesson                   0.312950         0.444618   \n",
       "\n",
       "                                       count_visibility_on  \\\n",
       "metric: mean percent by done homework             0.018821   \n",
       "metric: mean percent do homework                  0.053644   \n",
       "metric: mean count attempts                       0.061163   \n",
       "metric: count done result                         0.385288   \n",
       "count_webcam_on                                   0.319315   \n",
       "count_notify_on                                   0.480366   \n",
       "count_visibility_on                               1.000000   \n",
       "count_microphone_on                               0.236425   \n",
       "count_focus_on                                    0.815841   \n",
       "count_size                                        0.646678   \n",
       "mean_percent_time_on_lesson                       0.643855   \n",
       "\n",
       "                                       count_microphone_on  count_focus_on  \\\n",
       "metric: mean percent by done homework            -0.092578        0.063177   \n",
       "metric: mean percent do homework                 -0.040322        0.120699   \n",
       "metric: mean count attempts                       0.160860       -0.008063   \n",
       "metric: count done result                         0.065778        0.347452   \n",
       "count_webcam_on                                   0.131198        0.309957   \n",
       "count_notify_on                                   0.071181        0.603886   \n",
       "count_visibility_on                               0.236425        0.815841   \n",
       "count_microphone_on                               1.000000        0.010665   \n",
       "count_focus_on                                    0.010665        1.000000   \n",
       "count_size                                        0.067963        0.653523   \n",
       "mean_percent_time_on_lesson                       0.107317        0.663887   \n",
       "\n",
       "                                       count_size  mean_percent_time_on_lesson  \n",
       "metric: mean percent by done homework    0.018596                    -0.038749  \n",
       "metric: mean percent do homework         0.016643                     0.069799  \n",
       "metric: mean count attempts              0.024354                     0.059778  \n",
       "metric: count done result                0.190663                     0.224752  \n",
       "count_webcam_on                          0.238372                     0.312950  \n",
       "count_notify_on                          0.404346                     0.444618  \n",
       "count_visibility_on                      0.646678                     0.643855  \n",
       "count_microphone_on                      0.067963                     0.107317  \n",
       "count_focus_on                           0.653523                     0.663887  \n",
       "count_size                               1.000000                     0.669558  \n",
       "mean_percent_time_on_lesson              0.669558                     1.000000  "
      ]
     },
     "execution_count": 74,
     "metadata": {},
     "output_type": "execute_result"
    }
   ],
   "source": [
    "corr"
   ]
  },
  {
   "cell_type": "code",
   "execution_count": 75,
   "metadata": {},
   "outputs": [
    {
     "data": {
      "image/png": "[encoded data removed]",
      "text/plain": [
       "<Figure size 1152x1008 with 2 Axes>"
      ]
     },
     "metadata": {
      "needs_background": "light"
     },
     "output_type": "display_data"
    }
   ],
   "source": [
    "plt.figure(figsize=(16, 14))\n",
    "\n",
    "ax = sns.heatmap(corr, \n",
    "            cmap='coolwarm',\n",
    "            annot=True,\n",
    "            linewidths=2,\n",
    "            linecolor='black',\n",
    "            square=True,\n",
    "            mask=np.triu(corr),\n",
    "            fmt='.1g',\n",
    "            vmin=-1,\n",
    "            vmax=1)\n",
    "\n",
    "ax.set(xlabel=\"\", ylabel=\"\")\n",
    "ax.xaxis.tick_top()\n",
    "sns.set(font_scale=1)\n",
    "\n",
    "plt.xticks(rotation=70)\n",
    "plt.savefig('heatmap.png')"
   ]
  },
  {
   "cell_type": "code",
   "execution_count": 76,
   "metadata": {},
   "outputs": [],
   "source": [
    "def t_statistic(xs, ys):\n",
    "    '''Вычисление t-статистики'''\n",
    "    r = xs.corr(ys)  # как вариант, correlation(xs, ys)\n",
    "    df = xs.count() - 2\n",
    "    return r * np.sqrt(df / 1 - r ** 2)\n",
    "\n",
    "def ex_3_9():\n",
    "    '''Выполнение двухстороннего t-теста'''\n",
    "    df = merge_log[['metric: mean percent by done homework', 'count_size']]\n",
    "    xs = merge_log['metric: mean percent by done homework']\n",
    "    ys = merge_log['count_size']\n",
    "    t_value = t_statistic(xs, ys)\n",
    "    df = xs.count() - 2 \n",
    "    p = 2 * t.sf(t_value, df)  # функция выживания \n",
    "    return {'t-значение':t_value, 'p-значение':p}"
   ]
  },
  {
   "cell_type": "code",
   "execution_count": 77,
   "metadata": {},
   "outputs": [
    {
     "data": {
      "text/plain": [
       "{'t-значение': 1.9529693937572274, 'p-значение': 0.05130962147625032}"
      ]
     },
     "execution_count": 77,
     "metadata": {},
     "output_type": "execute_result"
    }
   ],
   "source": [
    "ex_3_9()"
   ]
  }
 ],
 "metadata": {
  "kernelspec": {
   "display_name": "Python 3",
   "language": "python",
   "name": "python3"
  },
  "language_info": {
   "codemirror_mode": {
    "name": "ipython",
    "version": 3
   },
   "file_extension": ".py",
   "mimetype": "text/x-python",
   "name": "python",
   "nbconvert_exporter": "python",
   "pygments_lexer": "ipython3",
   "version": "3.7.3"
  }
 },
 "nbformat": 4,
 "nbformat_minor": 4
}
